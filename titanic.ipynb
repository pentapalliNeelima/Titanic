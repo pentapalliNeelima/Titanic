{
 "cells": [
  {
   "cell_type": "code",
   "execution_count": 24,
   "id": "7f2b487e",
   "metadata": {},
   "outputs": [],
   "source": [
    "import pandas as pd"
   ]
  },
  {
   "cell_type": "code",
   "execution_count": 25,
   "id": "d5c35f0b",
   "metadata": {},
   "outputs": [],
   "source": [
    "data=pd.read_csv(r\"C:\\Users\\penta\\Downloads\\titanic\\tested.csv\")"
   ]
  },
  {
   "cell_type": "code",
   "execution_count": 26,
   "id": "fb4cf261",
   "metadata": {},
   "outputs": [],
   "source": [
    "from sklearn.model_selection import train_test_split\n",
    "from sklearn.ensemble import RandomForestClassifier\n",
    "from sklearn.impute import SimpleImputer\n",
    "from sklearn.metrics import accuracy_score"
   ]
  },
  {
   "cell_type": "code",
   "execution_count": 27,
   "id": "d74116ef",
   "metadata": {},
   "outputs": [],
   "source": [
    "X = data.drop('Survived', axis=1)\n",
    "y = data['Survived']"
   ]
  },
  {
   "cell_type": "code",
   "execution_count": 28,
   "id": "2b7ac883",
   "metadata": {},
   "outputs": [],
   "source": [
    "X = pd.get_dummies(X)"
   ]
  },
  {
   "cell_type": "code",
   "execution_count": 29,
   "id": "4ab1dc82",
   "metadata": {},
   "outputs": [],
   "source": [
    "categorical_columns = ['Pclass', 'SibSp', 'Parch']\n",
    "numeric_columns = list(set(X.columns) - set(categorical_columns))"
   ]
  },
  {
   "cell_type": "code",
   "execution_count": 30,
   "id": "6dda8e61",
   "metadata": {},
   "outputs": [],
   "source": [
    "X_train, X_test, y_train, y_test = train_test_split(X, y, test_size=0.2, random_state=42)"
   ]
  },
  {
   "cell_type": "code",
   "execution_count": 31,
   "id": "b05a7627",
   "metadata": {},
   "outputs": [],
   "source": [
    "numeric_imputer = SimpleImputer(strategy='mean')\n",
    "X_train[numeric_columns] = numeric_imputer.fit_transform(X_train[numeric_columns])\n",
    "X_test[numeric_columns] = numeric_imputer.transform(X_test[numeric_columns])"
   ]
  },
  {
   "cell_type": "code",
   "execution_count": 32,
   "id": "840945c9",
   "metadata": {},
   "outputs": [],
   "source": [
    "categorical_imputer = SimpleImputer(strategy='most_frequent')\n",
    "X_train[categorical_columns] = categorical_imputer.fit_transform(X_train[categorical_columns])\n",
    "X_test[categorical_columns] = categorical_imputer.transform(X_test[categorical_columns])"
   ]
  },
  {
   "cell_type": "code",
   "execution_count": 33,
   "id": "1ddf1c20",
   "metadata": {},
   "outputs": [],
   "source": [
    "clf = RandomForestClassifier()"
   ]
  },
  {
   "cell_type": "code",
   "execution_count": 34,
   "id": "b081f8f0",
   "metadata": {},
   "outputs": [
    {
     "data": {
      "text/html": [
       "<style>#sk-container-id-2 {color: black;background-color: white;}#sk-container-id-2 pre{padding: 0;}#sk-container-id-2 div.sk-toggleable {background-color: white;}#sk-container-id-2 label.sk-toggleable__label {cursor: pointer;display: block;width: 100%;margin-bottom: 0;padding: 0.3em;box-sizing: border-box;text-align: center;}#sk-container-id-2 label.sk-toggleable__label-arrow:before {content: \"▸\";float: left;margin-right: 0.25em;color: #696969;}#sk-container-id-2 label.sk-toggleable__label-arrow:hover:before {color: black;}#sk-container-id-2 div.sk-estimator:hover label.sk-toggleable__label-arrow:before {color: black;}#sk-container-id-2 div.sk-toggleable__content {max-height: 0;max-width: 0;overflow: hidden;text-align: left;background-color: #f0f8ff;}#sk-container-id-2 div.sk-toggleable__content pre {margin: 0.2em;color: black;border-radius: 0.25em;background-color: #f0f8ff;}#sk-container-id-2 input.sk-toggleable__control:checked~div.sk-toggleable__content {max-height: 200px;max-width: 100%;overflow: auto;}#sk-container-id-2 input.sk-toggleable__control:checked~label.sk-toggleable__label-arrow:before {content: \"▾\";}#sk-container-id-2 div.sk-estimator input.sk-toggleable__control:checked~label.sk-toggleable__label {background-color: #d4ebff;}#sk-container-id-2 div.sk-label input.sk-toggleable__control:checked~label.sk-toggleable__label {background-color: #d4ebff;}#sk-container-id-2 input.sk-hidden--visually {border: 0;clip: rect(1px 1px 1px 1px);clip: rect(1px, 1px, 1px, 1px);height: 1px;margin: -1px;overflow: hidden;padding: 0;position: absolute;width: 1px;}#sk-container-id-2 div.sk-estimator {font-family: monospace;background-color: #f0f8ff;border: 1px dotted black;border-radius: 0.25em;box-sizing: border-box;margin-bottom: 0.5em;}#sk-container-id-2 div.sk-estimator:hover {background-color: #d4ebff;}#sk-container-id-2 div.sk-parallel-item::after {content: \"\";width: 100%;border-bottom: 1px solid gray;flex-grow: 1;}#sk-container-id-2 div.sk-label:hover label.sk-toggleable__label {background-color: #d4ebff;}#sk-container-id-2 div.sk-serial::before {content: \"\";position: absolute;border-left: 1px solid gray;box-sizing: border-box;top: 0;bottom: 0;left: 50%;z-index: 0;}#sk-container-id-2 div.sk-serial {display: flex;flex-direction: column;align-items: center;background-color: white;padding-right: 0.2em;padding-left: 0.2em;position: relative;}#sk-container-id-2 div.sk-item {position: relative;z-index: 1;}#sk-container-id-2 div.sk-parallel {display: flex;align-items: stretch;justify-content: center;background-color: white;position: relative;}#sk-container-id-2 div.sk-item::before, #sk-container-id-2 div.sk-parallel-item::before {content: \"\";position: absolute;border-left: 1px solid gray;box-sizing: border-box;top: 0;bottom: 0;left: 50%;z-index: -1;}#sk-container-id-2 div.sk-parallel-item {display: flex;flex-direction: column;z-index: 1;position: relative;background-color: white;}#sk-container-id-2 div.sk-parallel-item:first-child::after {align-self: flex-end;width: 50%;}#sk-container-id-2 div.sk-parallel-item:last-child::after {align-self: flex-start;width: 50%;}#sk-container-id-2 div.sk-parallel-item:only-child::after {width: 0;}#sk-container-id-2 div.sk-dashed-wrapped {border: 1px dashed gray;margin: 0 0.4em 0.5em 0.4em;box-sizing: border-box;padding-bottom: 0.4em;background-color: white;}#sk-container-id-2 div.sk-label label {font-family: monospace;font-weight: bold;display: inline-block;line-height: 1.2em;}#sk-container-id-2 div.sk-label-container {text-align: center;}#sk-container-id-2 div.sk-container {/* jupyter's `normalize.less` sets `[hidden] { display: none; }` but bootstrap.min.css set `[hidden] { display: none !important; }` so we also need the `!important` here to be able to override the default hidden behavior on the sphinx rendered scikit-learn.org. See: https://github.com/scikit-learn/scikit-learn/issues/21755 */display: inline-block !important;position: relative;}#sk-container-id-2 div.sk-text-repr-fallback {display: none;}</style><div id=\"sk-container-id-2\" class=\"sk-top-container\"><div class=\"sk-text-repr-fallback\"><pre>RandomForestClassifier()</pre><b>In a Jupyter environment, please rerun this cell to show the HTML representation or trust the notebook. <br />On GitHub, the HTML representation is unable to render, please try loading this page with nbviewer.org.</b></div><div class=\"sk-container\" hidden><div class=\"sk-item\"><div class=\"sk-estimator sk-toggleable\"><input class=\"sk-toggleable__control sk-hidden--visually\" id=\"sk-estimator-id-2\" type=\"checkbox\" checked><label for=\"sk-estimator-id-2\" class=\"sk-toggleable__label sk-toggleable__label-arrow\">RandomForestClassifier</label><div class=\"sk-toggleable__content\"><pre>RandomForestClassifier()</pre></div></div></div></div></div>"
      ],
      "text/plain": [
       "RandomForestClassifier()"
      ]
     },
     "execution_count": 34,
     "metadata": {},
     "output_type": "execute_result"
    }
   ],
   "source": [
    "clf.fit(X_train, y_train)"
   ]
  },
  {
   "cell_type": "code",
   "execution_count": 35,
   "id": "ece000a9",
   "metadata": {},
   "outputs": [],
   "source": [
    "y_pred = clf.predict(X_test)"
   ]
  },
  {
   "cell_type": "code",
   "execution_count": 36,
   "id": "54323b9b",
   "metadata": {},
   "outputs": [
    {
     "name": "stdout",
     "output_type": "stream",
     "text": [
      "Accuracy: 1.0\n"
     ]
    }
   ],
   "source": [
    "accuracy = accuracy_score(y_test, y_pred)\n",
    "print(\"Accuracy:\", accuracy)"
   ]
  },
  {
   "cell_type": "code",
   "execution_count": 37,
   "id": "82da689a",
   "metadata": {},
   "outputs": [
    {
     "name": "stdout",
     "output_type": "stream",
     "text": [
      "Enter the ticket class (1, 2, or 3): 2\n",
      "Enter the gender (male or female): f\n",
      "Enter the age: 29\n",
      "Enter the number of siblings/spouses aboard: 1\n",
      "Enter the number of parents/children aboard: 2\n",
      "Enter the port of embarkation (S, C, or Q): Q\n"
     ]
    }
   ],
   "source": [
    "pclass = int(input(\"Enter the ticket class (1, 2, or 3): \"))\n",
    "sex = input(\"Enter the gender (male or female): \")\n",
    "age = float(input(\"Enter the age: \"))\n",
    "sibsp = int(input(\"Enter the number of siblings/spouses aboard: \"))\n",
    "parch = int(input(\"Enter the number of parents/children aboard: \"))\n",
    "embarked = input(\"Enter the port of embarkation (S, C, or Q): \")\n",
    "\n",
    "# make a new dictionary\n",
    "new_passenger_data = {\n",
    "    'Pclass': [pclass],\n",
    "    'Sex': [sex],\n",
    "    'Age': [age],\n",
    "    'SibSp': [sibsp],\n",
    "    'Parch': [parch],\n",
    "    'Embarked': [embarked]\n",
    "}"
   ]
  },
  {
   "cell_type": "code",
   "execution_count": 38,
   "id": "da883838",
   "metadata": {},
   "outputs": [],
   "source": [
    "new_data = pd.DataFrame(new_passenger_data)"
   ]
  },
  {
   "cell_type": "code",
   "execution_count": 39,
   "id": "47688dc0",
   "metadata": {},
   "outputs": [],
   "source": [
    "new_data = pd.get_dummies(new_data)"
   ]
  },
  {
   "cell_type": "code",
   "execution_count": 40,
   "id": "362c936a",
   "metadata": {},
   "outputs": [],
   "source": [
    "new_data = new_data.reindex(columns=X_train.columns, fill_value=0)"
   ]
  },
  {
   "cell_type": "code",
   "execution_count": 41,
   "id": "97d816b8",
   "metadata": {},
   "outputs": [],
   "source": [
    "new_data[numeric_columns] = numeric_imputer.transform(new_data[numeric_columns])\n",
    "new_data[categorical_columns] = categorical_imputer.transform(new_data[categorical_columns])"
   ]
  },
  {
   "cell_type": "code",
   "execution_count": 42,
   "id": "39c03512",
   "metadata": {},
   "outputs": [],
   "source": [
    "prediction = clf.predict(new_data)"
   ]
  },
  {
   "cell_type": "code",
   "execution_count": 43,
   "id": "c81aa860",
   "metadata": {},
   "outputs": [
    {
     "name": "stdout",
     "output_type": "stream",
     "text": [
      "Not Survived\n"
     ]
    }
   ],
   "source": [
    "if prediction==1:\n",
    "    print('Survived')\n",
    "else:\n",
    "    print('Not Survived')"
   ]
  },
  {
   "cell_type": "code",
   "execution_count": null,
   "id": "7b3f57e0",
   "metadata": {},
   "outputs": [],
   "source": []
  }
 ],
 "metadata": {
  "kernelspec": {
   "display_name": "Python 3 (ipykernel)",
   "language": "python",
   "name": "python3"
  },
  "language_info": {
   "codemirror_mode": {
    "name": "ipython",
    "version": 3
   },
   "file_extension": ".py",
   "mimetype": "text/x-python",
   "name": "python",
   "nbconvert_exporter": "python",
   "pygments_lexer": "ipython3",
   "version": "3.10.9"
  }
 },
 "nbformat": 4,
 "nbformat_minor": 5
}
